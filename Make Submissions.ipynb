{
 "cells": [
  {
   "cell_type": "code",
   "execution_count": 1,
   "id": "1611fed8",
   "metadata": {},
   "outputs": [],
   "source": [
    "import os\n",
    "import pickle\n",
    "import numpy as np\n",
    "import pandas as pd\n",
    "import matplotlib.pyplot as plt\n",
    "\n",
    "from tqdm.auto import tqdm\n",
    "from itertools import product\n",
    "from edist.sed import standard_sed\n",
    "from collections import defaultdict"
   ]
  },
  {
   "cell_type": "code",
   "execution_count": 2,
   "id": "f7f0cb36",
   "metadata": {},
   "outputs": [],
   "source": [
    "def get_metrics(results):\n",
    "    correct = []\n",
    "    edit_distances = []\n",
    "    normalised_edit_distances = []\n",
    "    for true_target, prediction in zip(\n",
    "        results[\"validation\"][\"targets\"], results[\"validation\"][\"predictions\"]\n",
    "    ):\n",
    "        correct.append(true_target == prediction)\n",
    "        edit_distances.append(standard_sed(prediction[1:-1], true_target[1:-1]))\n",
    "        normalised_edit_distances.append(\n",
    "            standard_sed(prediction[1:-1], true_target[1:-1]) / len(true_target[1:-1])\n",
    "        )\n",
    "    \n",
    "    wer = 100 * (1 - np.mean(correct).item())\n",
    "    edit_distance = np.mean(edit_distances).item()\n",
    "    normalised_edit_distance = 100 * np.mean(normalised_edit_distances).item()\n",
    "    \n",
    "    return wer, edit_distance, normalised_edit_distance"
   ]
  },
  {
   "cell_type": "code",
   "execution_count": 3,
   "id": "7022afae",
   "metadata": {},
   "outputs": [
    {
     "data": {
      "application/vnd.jupyter.widget-view+json": {
       "model_id": "e27cafc8bbd04e69b5044232224c12e7",
       "version_major": 2,
       "version_minor": 0
      },
      "text/plain": [
       "  0%|          | 0/265 [00:00<?, ?it/s]"
      ]
     },
     "metadata": {},
     "output_type": "display_data"
    }
   ],
   "source": [
    "language_predictions = defaultdict(list)\n",
    "best_validation_ned = defaultdict(lambda: 100.)\n",
    "trials_per_lang = defaultdict(int)\n",
    "\n",
    "for prediction_file in tqdm(list(sorted(os.listdir(\"./predictions/\")))):\n",
    "    parameters = {\n",
    "        key: value for key, value\n",
    "        in [entry.split(\"=\") for entry in prediction_file.split(\".\")[0].split(\"-\")]\n",
    "    }\n",
    "    \n",
    "    if parameters[\"model\"] != \"interpretable\":\n",
    "        continue\n",
    "        \n",
    "    language = parameters[\"language\"]\n",
    "    trials_per_lang[language] += 1\n",
    "    \n",
    "    with open(os.path.join(\"./predictions\", prediction_file), 'rb') as pf:\n",
    "        predictions = pickle.load(pf)\n",
    "        wer, edit_distance, normalised_edit_distance = get_metrics(predictions)\n",
    "        \n",
    "        if normalised_edit_distance < best_validation_ned[language]:\n",
    "            best_validation_ned[language] = normalised_edit_distance\n",
    "            language_predictions[language] = predictions[\"test\"][\"predictions\"]"
   ]
  },
  {
   "cell_type": "code",
   "execution_count": 4,
   "id": "80ed578b",
   "metadata": {},
   "outputs": [],
   "source": [
    "import regex\n",
    "\n",
    "kanji_regex = regex.compile(r'\\p{IsHan}', regex.UNICODE)\n",
    "\n",
    "def rekanjify(lemma, form):\n",
    "    kanji_indices = [i for i, char in enumerate(form) if char == \"K\"]\n",
    "    rekanjified_form = list(form)\n",
    "    kanjis = [char for char in lemma if regex.match(kanji_regex, char)]\n",
    "    \n",
    "    for kanji, index in zip(kanjis, kanji_indices):\n",
    "        rekanjified_form[index] = kanji\n",
    "    \n",
    "    return \"\".join(rekanjified_form)"
   ]
  },
  {
   "cell_type": "code",
   "execution_count": 5,
   "id": "357eef68",
   "metadata": {},
   "outputs": [],
   "source": [
    "os.makedirs(\"./submission\", exist_ok=True)\n",
    "\n",
    "for language, predictions in language_predictions.items():\n",
    "    test_file = os.path.join(\"./data\", f\"{language}.covered.tst\")\n",
    "    prediction_file = os.path.join(\"./submission\", f\"{language}.pred\")\n",
    "    with open(test_file) as tf:\n",
    "        with open(prediction_file, \"w\") as pf:\n",
    "            for line, prediction in zip(tf, predictions):\n",
    "                lemma, tags = line.strip().split(\"\\t\")\n",
    "                prediction = \"\".join(prediction[1:-1])\n",
    "                if language == \"jap\":\n",
    "                    prediction = rekanjify(lemma, prediction)\n",
    "                \n",
    "                pf.write(f\"{lemma}\\t{tags}\\t{prediction}\\n\")"
   ]
  }
 ],
 "metadata": {
  "kernelspec": {
   "display_name": "Python 3 (ipykernel)",
   "language": "python",
   "name": "python3"
  },
  "language_info": {
   "codemirror_mode": {
    "name": "ipython",
    "version": 3
   },
   "file_extension": ".py",
   "mimetype": "text/x-python",
   "name": "python",
   "nbconvert_exporter": "python",
   "pygments_lexer": "ipython3",
   "version": "3.10.9"
  }
 },
 "nbformat": 4,
 "nbformat_minor": 5
}
